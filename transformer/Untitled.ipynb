{
 "cells": [
  {
   "cell_type": "code",
   "execution_count": 15,
   "metadata": {},
   "outputs": [],
   "source": [
    "def dedupe_tuples(tups):\n",
    "    return list(set([(a, b) if a < b else (b, a) for a, b in tups]))"
   ]
  },
  {
   "cell_type": "code",
   "execution_count": 19,
   "metadata": {},
   "outputs": [],
   "source": [
    "def get_src_dst_deps(src_deps, order=1):\n",
    "    if not isinstance(src_deps, list):\n",
    "        src_deps = [src_deps]\n",
    "    # If order is one, then we simply return src_deps\n",
    "    if order == 1:\n",
    "        return list(set(src_deps))\n",
    "    else:\n",
    "        new_deps = list()\n",
    "        for src, dst in src_deps:\n",
    "            # Go up one order. i.e make dst the src, and find its parent\n",
    "            for src_dup, dst_dup in src_deps:\n",
    "                if dst_dup == dst and src != src_dup:\n",
    "                    new_deps.append((src, src_dup))\n",
    "                elif src_dup == src and dst != dst_dup:\n",
    "                    new_deps.append((dst, dst_dup))\n",
    "                elif dst == src_dup and src != dst_dup:\n",
    "                    new_deps.append((src, dst_dup))\n",
    "        return list(set(get_src_dst_deps(new_deps, order=order - 1)).difference(set(src_deps)))"
   ]
  },
  {
   "cell_type": "code",
   "execution_count": 24,
   "metadata": {},
   "outputs": [
    {
     "data": {
      "text/plain": [
       "[]"
      ]
     },
     "execution_count": 24,
     "metadata": {},
     "output_type": "execute_result"
    }
   ],
   "source": [
    "dedupe_tuples(get_src_dst_deps([(0, 2), (0, 1)], 3))"
   ]
  },
  {
   "cell_type": "code",
   "execution_count": null,
   "metadata": {},
   "outputs": [],
   "source": []
  }
 ],
 "metadata": {
  "kernelspec": {
   "display_name": "Python 3",
   "language": "python",
   "name": "python3"
  },
  "language_info": {
   "codemirror_mode": {
    "name": "ipython",
    "version": 3
   },
   "file_extension": ".py",
   "mimetype": "text/x-python",
   "name": "python",
   "nbconvert_exporter": "python",
   "pygments_lexer": "ipython3",
   "version": "3.5.0"
  }
 },
 "nbformat": 4,
 "nbformat_minor": 2
}
